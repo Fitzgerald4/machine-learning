{
  "cells": [
    {
      "cell_type": "markdown",
      "metadata": {
        "id": "XB1N4mSVYlZX"
      },
      "source": [
        "# 10장 딥러닝 모델 설계하기  (2장 딥러닝 핵심 미리 보기 파트)"
      ]
    },
    {
      "cell_type": "markdown",
      "metadata": {
        "id": "3T7WudIEYlZZ"
      },
      "source": [
        "[<img src=\"https://raw.githubusercontent.com/taehojo/taehojo.github.io/master/assets/images/linktocolab.png\" align=\"left\"/> ](https://colab.research.google.com/github/taehojo/deeplearning/blob/master/colab/ch10-colab.ipynb)"
      ]
    },
    {
      "cell_type": "markdown",
      "metadata": {
        "id": "xolhfh6JYlZZ"
      },
      "source": [
        "### 1. 환경 준비 "
      ]
    },
    {
      "cell_type": "code",
      "execution_count": null,
      "metadata": {
        "id": "O3inCOYJYlZa"
      },
      "outputs": [],
      "source": [
        "# 텐서플로 라이브러리 안에 있는 케라스 API에서 필요한 함수 읽기\n",
        "from tensorflow.keras.models import Sequential  \n",
        "from tensorflow.keras.layers import Dense   \n",
        "\n",
        "# 데이터를 다루는 데 필요한 라이브러리를 불러오기\n",
        "import numpy as np"
      ]
    },
    {
      "cell_type": "markdown",
      "metadata": {
        "id": "FLJ8s2vpYlZb"
      },
      "source": [
        "### 2. 데이터 준비"
      ]
    },
    {
      "cell_type": "code",
      "execution_count": null,
      "metadata": {
        "id": "xb56th-rYlZb"
      },
      "outputs": [],
      "source": [
        "# 깃허브에 준비된 데이터를 가져오기\n",
        "!git clone https://github.com/taehojo/data.git   \n",
        "\n",
        "# 준비된 수술 환자 데이터를 불러오기\n",
        "Data_set = np.loadtxt(\"./data/ThoraricSurgery3.csv\", delimiter=\",\")  \n",
        "X = Data_set[:,0:16]    # 환자의 진찰 기록을 X로 지정\n",
        "y = Data_set[:,16]      # 수술 1년 후 사망/생존 여부를 y로 지정"
      ]
    },
    {
      "cell_type": "markdown",
      "metadata": {
        "id": "1xoe85jhYlZc"
      },
      "source": [
        "### 3. 구조 결정 "
      ]
    },
    {
      "cell_type": "code",
      "execution_count": null,
      "metadata": {
        "id": "MY70fmqJYlZc"
      },
      "outputs": [],
      "source": [
        "# 딥러닝 모델의 구조를 결정.\n",
        "model = Sequential()                                                   \n",
        "model.add(Dense(30, input_dim=16, activation='relu'))\n",
        "model.add(Dense(1, activation='sigmoid'))"
      ]
    },
    {
      "cell_type": "markdown",
      "metadata": {
        "id": "vLbRElN2YlZd"
      },
      "source": [
        "### 4. 모델 실행 "
      ]
    },
    {
      "cell_type": "code",
      "execution_count": null,
      "metadata": {
        "id": "QWkmj5z8YlZd",
        "outputId": "9654bb7f-8ab5-4a3a-a145-013e77a0254f"
      },
      "outputs": [
        {
          "name": "stdout",
          "output_type": "stream",
          "text": [
            "Epoch 1/5\n",
            "30/30 [==============================] - 1s 2ms/step - loss: 0.4955 - accuracy: 0.8426\n",
            "Epoch 2/5\n",
            "30/30 [==============================] - 0s 2ms/step - loss: 0.4502 - accuracy: 0.8511\n",
            "Epoch 3/5\n",
            "30/30 [==============================] - 0s 2ms/step - loss: 0.4412 - accuracy: 0.8511\n",
            "Epoch 4/5\n",
            "30/30 [==============================] - 0s 2ms/step - loss: 0.4613 - accuracy: 0.8511\n",
            "Epoch 5/5\n",
            "30/30 [==============================] - 0s 2ms/step - loss: 0.4373 - accuracy: 0.8511\n"
          ]
        }
      ],
      "source": [
        "# 딥러닝 모델을 실행\n",
        "model.compile(loss='binary_crossentropy', optimizer='adam', metrics=['accuracy']) \n",
        "history=model.fit(X, y, epochs=5, batch_size=16)"
      ]
    }
  ],
  "metadata": {
    "kernelspec": {
      "display_name": "Python 3 (ipykernel)",
      "language": "python",
      "name": "python3"
    },
    "language_info": {
      "codemirror_mode": {
        "name": "ipython",
        "version": 3
      },
      "file_extension": ".py",
      "mimetype": "text/x-python",
      "name": "python",
      "nbconvert_exporter": "python",
      "pygments_lexer": "ipython3",
      "version": "3.9.7"
    },
    "colab": {
      "provenance": []
    }
  },
  "nbformat": 4,
  "nbformat_minor": 0
}